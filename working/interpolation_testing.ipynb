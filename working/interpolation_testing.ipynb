{
 "cells": [
  {
   "cell_type": "markdown",
   "metadata": {},
   "source": [
    "Test interpolation routines with some sample data."
   ]
  },
  {
   "cell_type": "code",
   "execution_count": 2,
   "metadata": {
    "collapsed": false
   },
   "outputs": [
    {
     "name": "stdout",
     "output_type": "stream",
     "text": [
      "The autoreload extension is already loaded. To reload it, use:\n",
      "  %reload_ext autoreload\n"
     ]
    }
   ],
   "source": [
    "%load_ext autoreload\n",
    "%autoreload 2"
   ]
  },
  {
   "cell_type": "code",
   "execution_count": 22,
   "metadata": {
    "collapsed": false
   },
   "outputs": [],
   "source": [
    "import xarray as xr\n",
    "import numpy as np\n",
    "import marc_analysis as ma\n",
    "\n",
    "from ipywidgets import interact"
   ]
  },
  {
   "cell_type": "markdown",
   "metadata": {},
   "source": [
    "Open a sample dataset, and select a portion of its grid."
   ]
  },
  {
   "cell_type": "code",
   "execution_count": 19,
   "metadata": {
    "collapsed": false
   },
   "outputs": [
    {
     "name": "stderr",
     "output_type": "stream",
     "text": [
      "/Users/daniel/anaconda/lib/python3.4/site-packages/xarray/conventions.py:382: RuntimeWarning: Unable to decode time axis into full numpy.datetime64 objects, continuing using dummy netCDF4.datetime objects instead, reason: dates out of range\n",
      "  result = decode_cf_datetime(example_value, units, calendar)\n",
      "/Users/daniel/anaconda/lib/python3.4/site-packages/xarray/conventions.py:401: RuntimeWarning: Unable to decode time axis into full numpy.datetime64 objects, continuing using dummy netCDF4.datetime objects instead, reason: dates out of range\n",
      "  calendar=self.calendar)\n"
     ]
    },
    {
     "name": "stdout",
     "output_type": "stream",
     "text": [
      "<xarray.Dataset>\n",
      "Dimensions:              (cosp_prs: 7, cosp_tau_modis: 6, ilev: 31, lat: 24, lev: 30, lon: 144, nbnd: 2, slat: 95, slon: 144)\n",
      "Coordinates:\n",
      "  * lev                  (lev) float64 3.643 7.595 14.36 24.61 38.27 54.6 ...\n",
      "  * ilev                 (ilev) float64 2.255 5.032 10.16 18.56 30.67 45.87 ...\n",
      "  * cosp_prs             (cosp_prs) float64 900.0 740.0 620.0 500.0 375.0 ...\n",
      "  * cosp_tau_modis       (cosp_tau_modis) float64 0.8 2.45 6.5 16.2 41.5 ...\n",
      "    time                 object    2-06-15 00:00:00\n",
      "  * lat                  (lat) float64 -21.79 -19.89 -18.0 -16.11 -14.21 ...\n",
      "  * lon                  (lon) float64 0.0 2.5 5.0 7.5 10.0 12.5 15.0 17.5 ...\n",
      "  * slat                 (slat) float64 -89.05 -87.16 -85.26 -83.37 -81.47 ...\n",
      "  * slon                 (slon) float64 -1.25 1.25 3.75 6.25 8.75 11.25 ...\n",
      "  * nbnd                 (nbnd) int64 0 1\n",
      "Data variables:\n",
      "    hyam                 (lev) float64 0.003643 0.007595 0.01436 0.02461 ...\n",
      "    hybm                 (lev) float64 0.0 0.0 0.0 0.0 0.0 0.0 0.0 0.0 0.0 ...\n",
      "    hyai                 (ilev) float64 0.002255 0.005032 0.01016 0.01856 ...\n",
      "    hybi                 (ilev) float64 0.0 0.0 0.0 0.0 0.0 0.0 0.0 0.0 0.0 ...\n",
      "    cosp_prs_bnds        (cosp_prs, nbnd) float64 1e+03 800.0 800.0 680.0 ...\n",
      "    cosp_tau_modis_bnds  (cosp_tau_modis, nbnd) float64 0.3 1.3 1.3 3.6 3.6 ...\n",
      "    P0                   float64 1e+05\n",
      "    date                 int32 20615\n",
      "    datesec              int32 0\n",
      "    w_stag               (slat) float64 0.0005467 0.00164 0.002731 0.003819 ...\n",
      "    time_bnds            (nbnd) float64 529.9 530.0\n",
      "    date_written         |S8 b'11/03/15'\n",
      "    time_written         |S8 b'16:54:31'\n",
      "    ntrm                 int32 1\n",
      "    ntrn                 int32 1\n",
      "    ntrk                 int32 1\n",
      "    ndbase               int32 0\n",
      "    nsbase               int32 0\n",
      "    nbdate               int32 10101\n",
      "    nbsec                int32 0\n",
      "    mdt                  int32 1800\n",
      "    nlon                 (lat) int32 144 144 144 144 144 144 144 144 144 144 ...\n",
      "    wnummax              (lat) int32 1 1 1 1 1 1 1 1 1 1 1 1 1 1 1 1 1 1 1 1 ...\n",
      "    gw                   (lat) float64 0.03071 0.03109 0.03145 0.03177 ...\n",
      "    ndcur                int32 530\n",
      "    nscur                int32 0\n",
      "    co2vmr               float64 0.000367\n",
      "    ch4vmr               float64 1.76e-06\n",
      "    n2ovmr               float64 3.16e-07\n",
      "    f11vmr               float64 6.534e-10\n",
      "    f12vmr               float64 5.35e-10\n",
      "    sol_tsi              float64 -1.0\n",
      "    nsteph               int32 25440\n",
      "    AREL                 (lev, lat, lon) float32 0.0 0.0 0.0 0.0 0.0 0.0 0.0 ...\n",
      "    AWNC                 (lev, lat, lon) float32 0.0 0.0 0.0 0.0 0.0 0.0 0.0 ...\n",
      "    CLOUD                (lev, lat, lon) float32 0.0 0.0 0.0 0.0 0.0 0.0 0.0 ...\n",
      "    EFFLIQ               (lev, lat, lon) float32 10.0 10.0 10.0 10.0 10.0 ...\n",
      "    FREQL                (lev, lat, lon) float32 0.0 0.0 0.0 0.0 0.0 0.0 0.0 ...\n",
      "    ICWNC                (lev, lat, lon) float32 5.41217e-11 5.41331e-11 ...\n",
      "    LIQ_ICLD_VISTAU      (lev, lat, lon) float64 nan nan nan nan nan nan nan ...\n",
      "    LWC                  (lev, lat, lon) float32 0.0 0.0 0.0 0.0 0.0 0.0 0.0 ...\n",
      "    PRCO                 (lev, lat, lon) float32 0.0 0.0 0.0 0.0 0.0 0.0 0.0 ...\n",
      "    Q                    (lev, lat, lon) float32 1.813e-06 1.81317e-06 ...\n",
      "    RERCLD               (lev, lat, lon) float32 0.0 0.0 0.0 0.0 0.0 0.0 0.0 ...\n",
      "    T                    (lev, lat, lon) float32 234.441 234.392 234.331 ...\n",
      "    TOT_CLD_VISTAU       (lev, lat, lon) float64 nan nan nan nan nan nan nan ...\n",
      "    TOT_ICLD_VISTAU      (lev, lat, lon) float64 nan nan nan nan nan nan nan ...\n",
      "    Z3                   (lev, lat, lon) float32 37596.6 37593.7 37591.5 ...\n",
      "    ACTNL                (lat, lon) float32 9.19856e+06 2.9595e+07 ...\n",
      "    ACTREL               (lat, lon) float32 1.13186 2.61381 6.92587 9.69679 ...\n",
      "    AEROD_v              (lat, lon) float64 nan nan nan nan nan nan nan nan ...\n",
      "    ASDIR                (lat, lon) float32 1.0 1.0 1.0 1.0 1.0 1.0 1.00186 ...\n",
      "    CDNUMC               (lat, lon) float32 2.50045e+09 2.9527e+10 ...\n",
      "    CLDBOT               (lat, lon) float32 25.0 1.0 1.0 1.0 1.0 1.0 1.0 1.0 ...\n",
      "    CLDHGH               (lat, lon) float32 0.0 0.0 0.0 0.0 0.0 0.0 0.0 0.0 ...\n",
      "    CLDLOW               (lat, lon) float32 0.361487 0.726613 0.714479 ...\n",
      "    CLDMED               (lat, lon) float32 0.0 0.0 0.0 0.0 0.0 0.0 0.0 0.0 ...\n",
      "    CLDTOP               (lat, lon) float32 22.0 30.0 30.0 30.0 30.0 30.0 ...\n",
      "    CLDTOT               (lat, lon) float32 0.361487 0.726613 0.714479 ...\n",
      "    FCTL                 (lat, lon) float32 0.161439 0.313795 0.714479 ...\n",
      "    FLNT                 (lat, lon) float32 271.24 274.347 269.555 268.142 ...\n",
      "    FLUT                 (lat, lon) float32 272.538 275.643 270.85 269.436 ...\n",
      "    LWCF                 (lat, lon) float32 14.7673 12.4005 18.1683 20.3177 ...\n",
      "    ODV_DST01            (lat, lon) float64 nan nan nan nan nan nan nan nan ...\n",
      "    ODV_DST02            (lat, lon) float64 nan nan nan nan nan nan nan nan ...\n",
      "    ODV_DST03            (lat, lon) float64 nan nan nan nan nan nan nan nan ...\n",
      "    ODV_DST04            (lat, lon) float64 nan nan nan nan nan nan nan nan ...\n",
      "    ODV_SSLT01           (lat, lon) float64 nan nan nan nan nan nan nan nan ...\n",
      "    ODV_SSLT02           (lat, lon) float64 nan nan nan nan nan nan nan nan ...\n",
      "    ODV_SSLT03           (lat, lon) float64 nan nan nan nan nan nan nan nan ...\n",
      "    ODV_SSLT04           (lat, lon) float64 nan nan nan nan nan nan nan nan ...\n",
      "    PS                   (lat, lon) float32 102307.0 102210.0 102121.0 ...\n",
      "    SWCF                 (lat, lon) float32 0.0 0.0 0.0 0.0 0.0 0.0 0.0 0.0 ...\n",
      "    TAU_tot              (lat, lon) float64 nan nan nan nan nan nan nan nan ...\n",
      "    TGCLDCWP             (lat, lon) float32 0.0477388 0.0660905 0.0609831 ...\n",
      "    TGCLDLWP             (lat, lon) float32 0.0477388 0.0660905 0.0609831 ...\n",
      "Attributes:\n",
      "    Conventions: CF-1.0\n",
      "    source: CAM\n",
      "    case: aci_arg_comp_PD\n",
      "    title: UNSET\n",
      "    logname: darothen\n",
      "    host: ys0536\n",
      "    Version: $Name$\n",
      "    revision_Id: $Id$\n",
      "    initial_file: arg_comp_PD.cam.i.0011-01-01-00000.nc\n",
      "    topography_file: /glade/p/cesmdata/cseg/inputdata/atm/cam/topo/USGS-gtopo30_1.9x2.5_remap_c050602.nc\n",
      "    history: Wed Mar 30 19:08:08 2016: ncks --append aci_arg_comp_PD.cam.h1.0002-06-15-00000.nc medium_sample.nc\n",
      "    NCO: 4.4.7\n"
     ]
    }
   ],
   "source": [
    "test_ds = xr.open_dataset(\"medium_sample.nc\",)\n",
    "test_ds = test_ds.isel(time=0, lat=slice(-60, 60))\n",
    "\n",
    "print(test_ds)"
   ]
  },
  {
   "cell_type": "markdown",
   "metadata": {},
   "source": [
    "## Pressure-level Interpolation\n",
    "\n",
    "Select the 3D temperature field, and interpolate to specific pressure levels given the background hybrid pressure levels."
   ]
  },
  {
   "cell_type": "code",
   "execution_count": 73,
   "metadata": {
    "collapsed": false
   },
   "outputs": [
    {
     "data": {
      "text/plain": [
       "OrderedDict([('long_name', 'hybrid level at midpoints (1000*(A+B))'),\n",
       "             ('units', 'level'),\n",
       "             ('positive', 'down'),\n",
       "             ('standard_name', 'atmosphere_hybrid_sigma_pressure_coordinate'),\n",
       "             ('formula_terms', 'a: hyam b: hybm p0: P0 ps: PS')])"
      ]
     },
     "execution_count": 73,
     "metadata": {},
     "output_type": "execute_result"
    }
   ],
   "source": [
    "field = 'T'\n",
    "test_data = test_ds[field]\n",
    "\n",
    "# Compute the 3D pressure field given the hybrid coordinate system\n",
    "pres_levs = ma.hybrid_to_pressure(test_ds)\n",
    "\n",
    "# Select pressure levels for interpolation\n",
    "new_pres_levs = 100.*np.array([300., 500., 750., 850., 960.])\n",
    "# new_pres_levs = 100.*np.array(np.logspace(2, 3, 50))[-5:]\n",
    "\n",
    "# Compute interpolated data\n",
    "new_data_np = ma.interp_to_pres_levels(test_data, pres_levs, new_pres_levs,\n",
    "                                      'numpy')\n",
    "# new_data_sp = ma.interp_to_pres_levels(test_data, pres_levs, new_pres_levs,\n",
    "#                                       'scipy')\n",
    "\n",
    "# As a safety check, copy attributes into interpolated data\n",
    "nd = ma.copy_attrs(test_data, new_data_np)\n",
    "new_data_np.lev.attrs"
   ]
  },
  {
   "cell_type": "markdown",
   "metadata": {},
   "source": [
    "Select a column to compare, and plot the original and interpolated data"
   ]
  },
  {
   "cell_type": "code",
   "execution_count": 76,
   "metadata": {
    "collapsed": false
   },
   "outputs": [
    {
     "data": {
      "image/png": "[encoded data removed]",
      "text/plain": [
       "<matplotlib.figure.Figure at 0x11b6edf60>"
      ]
     },
     "metadata": {},
     "output_type": "display_data"
    }
   ],
   "source": [
    "%matplotlib inline\n",
    "import matplotlib.pyplot as plt\n",
    "from matplotlib.ticker import LogFormatter, LogLocator\n",
    "from matplotlib.ticker import FormatStrFormatter, MaxNLocator\n",
    "import seaborn as sns\n",
    "sns.set(style='ticks', context='talk')\n",
    "\n",
    "@interact(ilat=[0, len(test_ds.lat)-1], ilon=[0, len(test_ds.lon)-1])\n",
    "def plot_column(ilat, ilon):\n",
    "    \n",
    "    interp_np_column = new_data_np.isel(lat=ilat, lon=ilon)\n",
    "    orig_column = test_data.isel(lat=ilat, lon=ilon)\n",
    "    pres_column = pres_levs.isel(lat=ilat, lon=ilon)\n",
    "\n",
    "    fig = plt.figure(figsize=(4, 5))\n",
    "    ax = fig.add_subplot(111)\n",
    "\n",
    "    ax.plot(orig_column, pres_column/100., color='k', \n",
    "            ms=3, marker='o', lw=1)\n",
    "    ax.plot(interp_np_column, new_pres_levs/100.,\n",
    "            linestyle='none', marker='d', color='r')\n",
    "        \n",
    "    ax.semilogy()\n",
    "    ax.set_ylim(1035, 50)\n",
    "    for p in new_pres_levs/100.:\n",
    "        ax.hlines(p, *ax.get_xlim(), linestyle='dashed', lw=1)\n",
    "    \n",
    "    \n",
    "    ax.set_xlabel(\"{} ({})\".format(test_data.long_name, \n",
    "                                   test_data.units))\n",
    "    ax.yaxis.set_major_formatter(\n",
    "        FormatStrFormatter(\"%d\")\n",
    "    )\n",
    "    ax.yaxis.set_major_locator(MaxNLocator(10))\n",
    "    ax.set_ylabel(\"Pressure (hPa)\")\n",
    "    "
   ]
  },
  {
   "cell_type": "markdown",
   "metadata": {},
   "source": [
    "## Altitude Interpolation\n",
    "\n",
    "We now generalize the interpolation to an arbitrary auxiliary coordinate - in this case, the geopotential height field. "
   ]
  },
  {
   "cell_type": "code",
   "execution_count": 110,
   "metadata": {
    "collapsed": false,
    "scrolled": false
   },
   "outputs": [
    {
     "name": "stdout",
     "output_type": "stream",
     "text": [
      "[ 1.  2.  3.  4.  5.  6.  7.  8.  9.]\n"
     ]
    }
   ],
   "source": [
    "field = 'T'\n",
    "test_data = test_ds[field]\n",
    "\n",
    "heights = test_ds.Z3*1e-3\n",
    "new_height_levs = np.arange(1, 10.)\n",
    "print(new_height_levs)\n",
    "\n",
    "# Compute interpolated data\n",
    "new_data_np = ma.interp_by_field(test_data, heights, new_height_levs)\n",
    "\n",
    "# As a safety check, copy attributes into interpolated data\n",
    "nd = ma.copy_attrs(test_data, new_data_np)\n",
    "new_data_np.attrs.update(dict(\n",
    "    long_name='altitude', units='km', positive='up',\n",
    "    standard_name='altitude'\n",
    "))"
   ]
  },
  {
   "cell_type": "code",
   "execution_count": 111,
   "metadata": {
    "collapsed": false
   },
   "outputs": [
    {
     "data": {
      "image/png": "[encoded data removed]",
      "text/plain": [
       "<matplotlib.figure.Figure at 0x11b118ac8>"
      ]
     },
     "metadata": {},
     "output_type": "display_data"
    }
   ],
   "source": [
    "@interact(ilat=[0, len(test_ds.lat)-1], ilon=[0, len(test_ds.lon)-1])\n",
    "def plot_column(ilat, ilon):\n",
    "    \n",
    "    interp_np_column = new_data_np.isel(lat=ilat, lon=ilon)\n",
    "    orig_column = test_data.isel(lat=ilat, lon=ilon)\n",
    "    heights_column = heights.isel(lat=ilat, lon=ilon)\n",
    "\n",
    "    fig = plt.figure(figsize=(4, 5))\n",
    "    ax = fig.add_subplot(111)\n",
    "\n",
    "    ax.plot(orig_column, heights_column, color='k', \n",
    "            ms=3, marker='o', lw=1)\n",
    "    ax.plot(interp_np_column, new_height_levs,\n",
    "            linestyle='none', marker='d', color='r')\n",
    "\n",
    "    for p in new_height_levs:\n",
    "        ax.hlines(p, *ax.get_xlim(), linestyle='dashed', lw=1)\n",
    "    \n",
    "    ax.set_ylim(0, 17)\n",
    "    ax.set_xlabel(\"{} ({})\".format(test_data.long_name, \n",
    "                                   test_data.units))\n",
    "    ax.yaxis.set_major_formatter(\n",
    "        FormatStrFormatter(\"%d\")\n",
    "    )\n",
    "#     ax.set_ylabel(\"{} ({})\".format(new_data_np.lev.long_name, \n",
    "#                                    new_data_np.lev.units))\n",
    "    "
   ]
  }
 ],
 "metadata": {
  "kernelspec": {
   "display_name": "Python 3",
   "language": "python",
   "name": "python3"
  },
  "language_info": {
   "codemirror_mode": {
    "name": "ipython",
    "version": 3
   },
   "file_extension": ".py",
   "mimetype": "text/x-python",
   "name": "python",
   "nbconvert_exporter": "python",
   "pygments_lexer": "ipython3",
   "version": "3.4.4"
  }
 },
 "nbformat": 4,
 "nbformat_minor": 0
}
